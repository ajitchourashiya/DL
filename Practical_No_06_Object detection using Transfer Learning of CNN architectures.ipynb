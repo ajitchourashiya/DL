{
 "cells": [
  {
   "cell_type": "code",
   "execution_count": 1,
   "id": "de0aaa85",
   "metadata": {},
   "outputs": [
    {
     "name": "stderr",
     "output_type": "stream",
     "text": [
      "C:\\ProgramData\\Anaconda3\\lib\\site-packages\\scipy\\__init__.py:155: UserWarning: A NumPy version >=1.18.5 and <1.25.0 is required for this version of SciPy (detected version 1.26.0\n",
      "  warnings.warn(f\"A NumPy version >={np_minversion} and <{np_maxversion}\"\n"
     ]
    }
   ],
   "source": [
    "import tensorflow as tf\n",
    "from tensorflow.keras.datasets import cifar10\n",
    "from tensorflow.keras.applications import VGG16\n",
    "from tensorflow.keras.models import Sequential\n",
    "from tensorflow.keras.layers import Flatten, Dense\n",
    "from tensorflow.keras.utils import to_categorical"
   ]
  },
  {
   "cell_type": "code",
   "execution_count": 2,
   "id": "e7b150f6",
   "metadata": {},
   "outputs": [],
   "source": [
    "# Load CIFAR-10 dataset\n",
    "(itrain, ltrain), (itest, ltest) = cifar10.load_data()"
   ]
  },
  {
   "cell_type": "code",
   "execution_count": 3,
   "id": "227251cd",
   "metadata": {},
   "outputs": [],
   "source": [
    "# Preprocess the data\n",
    "itrain = itrain / 255.0\n",
    "itest = itest / 255.0\n",
    "ltrain = to_categorical(ltrain)\n",
    "ltest = to_categorical(ltest)"
   ]
  },
  {
   "cell_type": "code",
   "execution_count": 4,
   "id": "a3b1f227",
   "metadata": {},
   "outputs": [],
   "source": [
    "# Load pre-trained VGG16 model (excluding the top fully-connected layers)\n",
    "basem = VGG16(weights='imagenet', include_top=False, input_shape=(32, 32, 3))"
   ]
  },
  {
   "cell_type": "code",
   "execution_count": 5,
   "id": "81717f41",
   "metadata": {},
   "outputs": [],
   "source": [
    "# Freeze the pre-trained layers\n",
    "for layer in basem.layers:\n",
    "   layer.trainable = False"
   ]
  },
  {
   "cell_type": "code",
   "execution_count": 6,
   "id": "0a60812c",
   "metadata": {},
   "outputs": [],
   "source": [
    "# Create a new model on top\n",
    "semodel = Sequential()\n",
    "semodel.add(basem)\n",
    "semodel.add(Flatten())\n",
    "semodel.add(Dense(256, activation='relu'))\n",
    "semodel.add(Dense(10, activation='softmax'))  # CIFAR-10 has 10 classes"
   ]
  },
  {
   "cell_type": "code",
   "execution_count": 7,
   "id": "cce8a19b",
   "metadata": {},
   "outputs": [],
   "source": [
    "# Compile the model\n",
    "semodel.compile(optimizer='adam', loss='categorical_crossentropy', metrics=['accuracy'])"
   ]
  },
  {
   "cell_type": "code",
   "execution_count": 8,
   "id": "e98cf7cf",
   "metadata": {},
   "outputs": [
    {
     "name": "stdout",
     "output_type": "stream",
     "text": [
      "Epoch 1/3\n",
      "1563/1563 [==============================] - 722s 460ms/step - loss: 1.3477 - accuracy: 0.5289 - val_loss: 1.2373 - val_accuracy: 0.5641\n",
      "Epoch 2/3\n",
      "1563/1563 [==============================] - 888s 568ms/step - loss: 1.1700 - accuracy: 0.5897 - val_loss: 1.1854 - val_accuracy: 0.5832\n",
      "Epoch 3/3\n",
      "1563/1563 [==============================] - 750s 480ms/step - loss: 1.1066 - accuracy: 0.6135 - val_loss: 1.1526 - val_accuracy: 0.5989\n"
     ]
    },
    {
     "data": {
      "text/plain": [
       "<keras.src.callbacks.History at 0x1d90177fe20>"
      ]
     },
     "execution_count": 8,
     "metadata": {},
     "output_type": "execute_result"
    }
   ],
   "source": [
    "# Train the model\n",
    "semodel.fit(itrain, ltrain, epochs=3, batch_size=32, validation_data=(itest, ltest))"
   ]
  },
  {
   "cell_type": "code",
   "execution_count": 9,
   "id": "793e1338",
   "metadata": {},
   "outputs": [
    {
     "name": "stdout",
     "output_type": "stream",
     "text": [
      "313/313 [==============================] - 122s 391ms/step - loss: 1.1526 - accuracy: 0.5989\n",
      "Test accuracy: 0.5989000201225281\n"
     ]
    }
   ],
   "source": [
    "# Evaluate the model on test data\n",
    "ltest, atest = semodel.evaluate(itest, ltest)\n",
    "print(\"Test accuracy:\", atest)\n"
   ]
  },
  {
   "cell_type": "raw",
   "id": "f24eb22b",
   "metadata": {},
   "source": [
    "Applications\n",
    "Transfer learning with Convolutional Neural Networks (CNNs) has numerous applications across various computer vision tasks. It has been successfully applied in image classification, where pre-trained models can be fine-tuned for specific classes or domains. Transfer learning is also beneficial in object detection, where pre-trained CNNs can be utilized as feature extractors to identify objects in images."
   ]
  }
 ],
 "metadata": {
  "kernelspec": {
   "display_name": "Python 3 (ipykernel)",
   "language": "python",
   "name": "python3"
  },
  "language_info": {
   "codemirror_mode": {
    "name": "ipython",
    "version": 3
   },
   "file_extension": ".py",
   "mimetype": "text/x-python",
   "name": "python",
   "nbconvert_exporter": "python",
   "pygments_lexer": "ipython3",
   "version": "3.9.13"
  }
 },
 "nbformat": 4,
 "nbformat_minor": 5
}
